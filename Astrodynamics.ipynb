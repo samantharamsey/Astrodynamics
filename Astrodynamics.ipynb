{
 "cells": [
  {
   "cell_type": "markdown",
   "metadata": {},
   "source": [
    "# Fundamentals of Astrodynamics and Applications\n",
    "#### Fourth Edition, by David A. Vallado\n",
    "\n",
    "\n",
    "### Chapter One\n",
    "<div style=\"text-align: justify\"><br><b>Celestial Mechanics</b> studies the motions of celestial objects.\n",
    "<br><b>Orbital Dynamics</b> studies the motion of all orbiting bodies.\n",
    "<br><b>Attitude Dynamics</b> deals with the orientation of an object in space.\n",
    "<br><b>Astrodynamics</b> is the study of the motion of man-made objects in space, subject to both natural and artificially induced forces.</div>\n",
    "\n",
    "##### Kepler's Laws of Planetary Motion:\n",
    "1. The orbit of each planet is an ellipse with the Sun at one focus.\n",
    "2. The line joining the planet to the Sun sweeps out equal areas in equal times.\n",
    "3. The square of the period of a planet is proportional to the cube of its mean distance to the Sun.\n",
    "\n",
    "##### Newton's Laws of Motion:\n",
    "1. Every body continues in its state of restm or of uniform motion in a straight line, unless it is compelled to change that state by forces impressed upon it.\n",
    "2. The change of motion is proportional to the motive force impressed and is made in the direction of the straight line in which that force is impressed.\n",
    "3. To every action there is always opposed an equal reaction; or, the mutual actions of two bodies upon each other are always equal and directed to contrary parts.\n",
    "\n",
    "#### Geometry of Conic Sections\n",
    "<div style=\"text-align: justify\">A <b><i>conic section</i></b> is the intersection of a plane and a right circular cones. The first four conic sections: circle, ellipse, parabola, and hyperbola are considered to be orbits. Every conic section has two <b><i>foci</i></b>. In astrodynamics, the gravitational center of attraction coincides with one focus for all orbital motion, called the <b><i>primary focus</i></b>. Both parabolic and hyperbolic orbits are considered <b><i>open</i></b> because the satellite does not repeat its position. <b><i>Closed orbits</i></b> are those in which a satellite ideally retraces its position over time. Conics are typically scaled using half of the major and minor axis, i.e. the <i>semimajor axis ($a$), the semiminor axis ($b$), </i>and <i>half the distance between the foci ($c$)</i>.\n",
    "<br><br>The <b><i>eccentricity</i></b>, $e$, of an orbit is a fixed constant that indicates it's shape. The eccentricity is never negative, and indicates the type of conic section for common orbits. An eccentricity of 1 results in a parabolic orbit, less than one: an ellipse, zero: a circle, and greater than 1: a hyperbola. To calculate eccentricity: \n",
    "<br><br>$$e = \\displaystyle\\frac{c}{a}$$\n",
    "<br>\n",
    "$$e = \\displaystyle\\frac{\\sqrt{a^2 - b^2}}{a}$$\n",
    "<br><br> The <i><b>semiparameter</b></i> or <i>semilatus rectum</i> or <i>parameter, $p$</i> is the distance from the primary focus to the orbit. On a circle, it is equal to the semimajor axis. Typically, the parameter is used to describe the scale for parabolic orbits because the value of the semimajor axis is infinite. To calculate the senmiparameter:\n",
    "<br><br>$$p = \\displaystyle\\frac{b^2}{a}$$\n",
    "<br>$$p = a(1 - e^2)$$\n",
    "<br><br> The extreme points of an ellipse are called <b><i>apoapsis</i></b> and <b><i>periapsis</i></b>, representing the farthest and nearest points in the orbit, respectively, from the primary focus or center of attraction. The endings are often changed to indicate a particular central body. For the Sun, they are aphelion and perihelion; the Earth, apogee and perigee; the Moon, aposelenium and periselenium. The <b><i>radius of periapsis</i></b>, $r_p$ is the distance from the closest point in the orbit to the primary focus. Similarly, the <b><i>radius of apoapsis</i></b>, $r_a$ is the distance from the farthest point in the orbit.\n",
    "<br>The <b><i>true anomaly</i></b>, $v$, locates the satellite in the orbital plane and is the angular displacement measured from periapsis to the position vector along the direction of motion. True anolmaly is undefined for circular orbits because they have no periapsis. The <b><i>flight-path angle</i></b>, $\\phi_{fpa}$, is the angle from the <b><i>local horizontal</i></b> (the line perpandicular to the radius vector) to the velocity vector.</div>\n",
    "\n",
    "#### Two-Body Equation\n",
    "<div style=\"text-align: justify\">To derive the two-body equation of motion, we assume an ideal inertial system that's fixed in inertial space or has a fixed orientation with an origin moving at constant velocity. Consider a system of only two bodies consisting of the Earth, $m_{\\oplus}$, and a satellite, $m_{sat}$.The force of gravity of the Earth acting on the satellite is:\n",
    "<br><br>$$\\vec{F}_g = \\displaystyle\\frac{Gm_{\\oplus}m_{sat}}{r^2}\\left(\\displaystyle\\frac{\\vec{r}}{r}\\right)$$\n",
    "<br>where $\\vec{r}_{\\oplus sat} = \\vec{r}_{sat} - \\vec{r}_{\\oplus}$ is the vector from the Earth to the satellite and $\\ddot{\\vec{r}}_{\\oplus sat} = \\ddot{\\vec{r}}_{sat} - \\ddot{\\vec{r}}_{\\oplus}$ is the satellite's acceleration relative to the center of the Earth. Using Newton's laws we can write the <i>inertial</i> forces:\n",
    "<br><br>$$\\vec{F}_{g_{sat}} = m_{sat}\\ddot{\\vec{r}}_{sat} = -\\displaystyle\\frac{Gm_{\\oplus}m_{sat}}{r^2}\\left(\\displaystyle\\frac{\\vec{r}}{r}\\right)$$\n",
    "<br>$$\\vec{F}_{g_{\\oplus}} = m_{\\oplus}\\ddot{\\vec{r}}_{\\oplus} = \\displaystyle\\frac{Gm_{\\oplus}m_{sat}}{r^2}\\left(\\displaystyle\\frac{\\vec{r}}{r}\\right)$$\n",
    "<br>Solving for the individual accelerations and using the differentiated form of the acceleration above, we can group these equations and solve for the realtive acceleration, $\\ddot{\\vec{r}}$:\n",
    "<br><br>$$\\ddot{\\vec{r}} = - \\displaystyle\\frac{Gm_{\\oplus}}{r^2} \\displaystyle\\frac{\\vec{r}}{r} - \\displaystyle\\frac{Gm_{sat}}{r^2} \\displaystyle\\frac{\\vec{r}}{r}$$ \n",
    "<br>or\n",
    "<br>$$\\ddot{\\vec{r}} = - \\displaystyle\\frac{G(m_{\\oplus} + m_{sat})}{r^2} \\displaystyle\\frac{\\vec{r}}{r}$$\n",
    "<br>If we assume the satellite's mass is significantly smaller than the mass of the attracting body, we can ignore the satellite's mass and replace $Gm_{\\oplus}$ with $\\mu$:\n",
    "<br><br>$$\\ddot{\\vec{r}} = - \\displaystyle\\frac{\\mu}{r^2}\\displaystyle\\frac{\\vec{r}}{r}$$\n",
    "<br>This is the basic two-body equation, often called <i>relative form</i>, because the motion is referenced to the primary attracting body. It is a second order, nonlinear, vector, differential equation which serves as the basis of our future development. This equation is based on the assumptions:</div>\n",
    "\n",
    "1. The mass of the sattelite is negligible compared to that of the attracting body.\n",
    "2. The coordinate system chosen for a particular problem is inertial.\n",
    "3. The bodies of the satellite and attracting body are spherically symmetrical, with uniform density. \n",
    "4. No other forces act on the system except gravitational forces along the line joining the centers of the two bodies.\n",
    "<br><br><div style=\"text-align: justify\">"
   ]
  },
  {
   "cell_type": "code",
   "execution_count": null,
   "metadata": {},
   "outputs": [],
   "source": []
  }
 ],
 "metadata": {
  "kernelspec": {
   "display_name": "Python 3",
   "language": "python",
   "name": "python3"
  },
  "language_info": {
   "codemirror_mode": {
    "name": "ipython",
    "version": 3
   },
   "file_extension": ".py",
   "mimetype": "text/x-python",
   "name": "python",
   "nbconvert_exporter": "python",
   "pygments_lexer": "ipython3",
   "version": "3.7.3"
  }
 },
 "nbformat": 4,
 "nbformat_minor": 2
}
